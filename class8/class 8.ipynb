{
 "cells": [
  {
   "cell_type": "code",
   "execution_count": 1,
   "id": "998b8e3c",
   "metadata": {},
   "outputs": [],
   "source": [
    "cities = [\"Atlanta\", \"Baltimore\", \"Chicago\",\n",
    "\"Denver\", \"Los Angeles\", \"Seattle\"]"
   ]
  },
  {
   "cell_type": "code",
   "execution_count": 2,
   "id": "815b313f",
   "metadata": {},
   "outputs": [
    {
     "data": {
      "text/plain": [
       "['Atlanta', 'Baltimore', 'Chicago', 'Denver', 'Los Angeles', 'Seattle']"
      ]
     },
     "execution_count": 2,
     "metadata": {},
     "output_type": "execute_result"
    }
   ],
   "source": [
    "cities"
   ]
  },
  {
   "cell_type": "code",
   "execution_count": 3,
   "id": "719ee002",
   "metadata": {},
   "outputs": [],
   "source": [
    "myself=['tasawor','khan',20,5.11,False]"
   ]
  },
  {
   "cell_type": "markdown",
   "id": "576d561b",
   "metadata": {},
   "source": [
    "###### ADDING&appending value in list\n"
   ]
  },
  {
   "cell_type": "code",
   "execution_count": 4,
   "id": "d5e24a6c",
   "metadata": {},
   "outputs": [],
   "source": [
    "#1st method(concatenation)\n",
    "\n",
    "new_cities=cities+['karachi',\"lahore\",\"delhi\"]"
   ]
  },
  {
   "cell_type": "code",
   "execution_count": 5,
   "id": "2a0a5375",
   "metadata": {},
   "outputs": [
    {
     "data": {
      "text/plain": [
       "['Atlanta',\n",
       " 'Baltimore',\n",
       " 'Chicago',\n",
       " 'Denver',\n",
       " 'Los Angeles',\n",
       " 'Seattle',\n",
       " 'karachi',\n",
       " 'lahore',\n",
       " 'delhi']"
      ]
     },
     "execution_count": 5,
     "metadata": {},
     "output_type": "execute_result"
    }
   ],
   "source": [
    "new_cities"
   ]
  },
  {
   "cell_type": "code",
   "execution_count": 7,
   "id": "7c1bf007",
   "metadata": {},
   "outputs": [],
   "source": [
    "#2nd method (.append fuction)\n",
    "\n",
    "cities.append(\"karachi\")"
   ]
  },
  {
   "cell_type": "code",
   "execution_count": 8,
   "id": "33f0d938",
   "metadata": {},
   "outputs": [
    {
     "data": {
      "text/plain": [
       "['Atlanta',\n",
       " 'Baltimore',\n",
       " 'Chicago',\n",
       " 'Denver',\n",
       " 'Los Angeles',\n",
       " 'Seattle',\n",
       " 'karachi']"
      ]
     },
     "execution_count": 8,
     "metadata": {},
     "output_type": "execute_result"
    }
   ],
   "source": [
    "cities"
   ]
  },
  {
   "cell_type": "code",
   "execution_count": 9,
   "id": "e2e730c9",
   "metadata": {},
   "outputs": [],
   "source": [
    "#3rd method(.insert function)\n",
    "\n",
    "cities.insert(0,\"Karachi\")"
   ]
  },
  {
   "cell_type": "code",
   "execution_count": 10,
   "id": "cdb0b78a",
   "metadata": {},
   "outputs": [
    {
     "data": {
      "text/plain": [
       "['Karachi',\n",
       " 'Atlanta',\n",
       " 'Baltimore',\n",
       " 'Chicago',\n",
       " 'Denver',\n",
       " 'Los Angeles',\n",
       " 'Seattle',\n",
       " 'karachi']"
      ]
     },
     "execution_count": 10,
     "metadata": {},
     "output_type": "execute_result"
    }
   ],
   "source": [
    "cities"
   ]
  },
  {
   "cell_type": "markdown",
   "id": "6a47fec6",
   "metadata": {},
   "source": [
    "###### Slicing"
   ]
  },
  {
   "cell_type": "code",
   "execution_count": 11,
   "id": "88686dc2",
   "metadata": {},
   "outputs": [
    {
     "data": {
      "text/plain": [
       "['Karachi',\n",
       " 'Atlanta',\n",
       " 'Baltimore',\n",
       " 'Chicago',\n",
       " 'Denver',\n",
       " 'Los Angeles',\n",
       " 'Seattle',\n",
       " 'karachi']"
      ]
     },
     "execution_count": 11,
     "metadata": {},
     "output_type": "execute_result"
    }
   ],
   "source": [
    "cities"
   ]
  },
  {
   "cell_type": "code",
   "execution_count": 12,
   "id": "5884f7a9",
   "metadata": {},
   "outputs": [
    {
     "data": {
      "text/plain": [
       "['Karachi',\n",
       " 'Atlanta',\n",
       " 'Baltimore',\n",
       " 'Chicago',\n",
       " 'Denver',\n",
       " 'Los Angeles',\n",
       " 'Seattle',\n",
       " 'karachi']"
      ]
     },
     "execution_count": 12,
     "metadata": {},
     "output_type": "execute_result"
    }
   ],
   "source": [
    "#1234-1include/4exclude\n",
    "#index starts with 0\n",
    "\n",
    "cities[0:]\n"
   ]
  },
  {
   "cell_type": "code",
   "execution_count": 13,
   "id": "ca8485e6",
   "metadata": {},
   "outputs": [
    {
     "data": {
      "text/plain": [
       "['Karachi', 'Atlanta', 'Baltimore']"
      ]
     },
     "execution_count": 13,
     "metadata": {},
     "output_type": "execute_result"
    }
   ],
   "source": [
    "cities[:3]"
   ]
  },
  {
   "cell_type": "code",
   "execution_count": 14,
   "id": "51e7d460",
   "metadata": {},
   "outputs": [
    {
     "data": {
      "text/plain": [
       "['Karachi',\n",
       " 'Atlanta',\n",
       " 'Baltimore',\n",
       " 'Chicago',\n",
       " 'Denver',\n",
       " 'Los Angeles',\n",
       " 'Seattle',\n",
       " 'karachi']"
      ]
     },
     "execution_count": 14,
     "metadata": {},
     "output_type": "execute_result"
    }
   ],
   "source": [
    "cities[:]"
   ]
  },
  {
   "cell_type": "code",
   "execution_count": 16,
   "id": "6195da03",
   "metadata": {},
   "outputs": [
    {
     "data": {
      "text/plain": [
       "['Chicago', 'Denver', 'Los Angeles', 'Seattle', 'karachi']"
      ]
     },
     "execution_count": 16,
     "metadata": {},
     "output_type": "execute_result"
    }
   ],
   "source": [
    "cities[3:8]"
   ]
  },
  {
   "cell_type": "code",
   "execution_count": 17,
   "id": "a5705805",
   "metadata": {},
   "outputs": [],
   "source": [
    "#-1,-2,-3\n",
    "\n",
    "cities1=cities[:-3]"
   ]
  },
  {
   "cell_type": "code",
   "execution_count": 18,
   "id": "3b7879bb",
   "metadata": {},
   "outputs": [
    {
     "data": {
      "text/plain": [
       "['Karachi', 'Atlanta', 'Baltimore', 'Chicago', 'Denver']"
      ]
     },
     "execution_count": 18,
     "metadata": {},
     "output_type": "execute_result"
    }
   ],
   "source": [
    "cities1"
   ]
  },
  {
   "cell_type": "code",
   "execution_count": 19,
   "id": "2f17c772",
   "metadata": {},
   "outputs": [],
   "source": [
    "cities2=cities[-3:]"
   ]
  },
  {
   "cell_type": "code",
   "execution_count": 20,
   "id": "ef3929ed",
   "metadata": {},
   "outputs": [
    {
     "data": {
      "text/plain": [
       "['Los Angeles', 'Seattle', 'karachi']"
      ]
     },
     "execution_count": 20,
     "metadata": {},
     "output_type": "execute_result"
    }
   ],
   "source": [
    "cities2"
   ]
  },
  {
   "cell_type": "markdown",
   "id": "30866861",
   "metadata": {},
   "source": [
    "###### Deleting or removing values in lists:"
   ]
  },
  {
   "cell_type": "code",
   "execution_count": 21,
   "id": "98156b93",
   "metadata": {},
   "outputs": [],
   "source": [
    "myself=['tasawor','khan',20,5.11,False]"
   ]
  },
  {
   "cell_type": "code",
   "execution_count": 22,
   "id": "2732e309",
   "metadata": {},
   "outputs": [],
   "source": [
    "del myself[3]"
   ]
  },
  {
   "cell_type": "code",
   "execution_count": 23,
   "id": "bff53040",
   "metadata": {},
   "outputs": [
    {
     "data": {
      "text/plain": [
       "['tasawor', 'khan', 20, False]"
      ]
     },
     "execution_count": 23,
     "metadata": {},
     "output_type": "execute_result"
    }
   ],
   "source": [
    "myself"
   ]
  },
  {
   "cell_type": "code",
   "execution_count": 24,
   "id": "bd53c9d0",
   "metadata": {},
   "outputs": [],
   "source": [
    "myself.remove(20)"
   ]
  },
  {
   "cell_type": "code",
   "execution_count": 25,
   "id": "d39b9305",
   "metadata": {},
   "outputs": [
    {
     "data": {
      "text/plain": [
       "['tasawor', 'khan', False]"
      ]
     },
     "execution_count": 25,
     "metadata": {},
     "output_type": "execute_result"
    }
   ],
   "source": [
    "myself"
   ]
  },
  {
   "cell_type": "markdown",
   "id": "938444c7",
   "metadata": {},
   "source": [
    "##### Popping elements from lists:\n"
   ]
  },
  {
   "cell_type": "code",
   "execution_count": 49,
   "id": "5507d0e7",
   "metadata": {},
   "outputs": [],
   "source": [
    "daily_tasks = [\"email Frank\", \"call Sarah\", \"meet with zach\"]\n"
   ]
  },
  {
   "cell_type": "code",
   "execution_count": 50,
   "id": "e35d8316",
   "metadata": {},
   "outputs": [
    {
     "data": {
      "text/plain": [
       "'meet with zach'"
      ]
     },
     "execution_count": 50,
     "metadata": {},
     "output_type": "execute_result"
    }
   ],
   "source": [
    "daily_tasks.pop(2)"
   ]
  },
  {
   "cell_type": "code",
   "execution_count": 33,
   "id": "8527ea93",
   "metadata": {},
   "outputs": [],
   "source": [
    "task_complete=[]"
   ]
  },
  {
   "cell_type": "code",
   "execution_count": 35,
   "id": "0818e986",
   "metadata": {},
   "outputs": [
    {
     "data": {
      "text/plain": [
       "[]"
      ]
     },
     "execution_count": 35,
     "metadata": {},
     "output_type": "execute_result"
    }
   ],
   "source": [
    "task_complete"
   ]
  },
  {
   "cell_type": "code",
   "execution_count": 51,
   "id": "0fc1f212",
   "metadata": {},
   "outputs": [],
   "source": [
    "task_complete = task_complete + list(daily_tasks.pop(1))"
   ]
  },
  {
   "cell_type": "code",
   "execution_count": 52,
   "id": "8e7eca33",
   "metadata": {},
   "outputs": [
    {
     "data": {
      "text/plain": [
       "['c',\n",
       " 'a',\n",
       " 'l',\n",
       " 'l',\n",
       " ' ',\n",
       " 'S',\n",
       " 'a',\n",
       " 'r',\n",
       " 'a',\n",
       " 'h',\n",
       " 'e',\n",
       " 'm',\n",
       " 'a',\n",
       " 'i',\n",
       " 'l',\n",
       " ' ',\n",
       " 'F',\n",
       " 'r',\n",
       " 'a',\n",
       " 'n',\n",
       " 'k',\n",
       " 'c',\n",
       " 'a',\n",
       " 'l',\n",
       " 'l',\n",
       " ' ',\n",
       " 'S',\n",
       " 'a',\n",
       " 'r',\n",
       " 'a',\n",
       " 'h']"
      ]
     },
     "execution_count": 52,
     "metadata": {},
     "output_type": "execute_result"
    }
   ],
   "source": [
    "task_complete"
   ]
  },
  {
   "cell_type": "code",
   "execution_count": 53,
   "id": "7b62e8ff",
   "metadata": {},
   "outputs": [],
   "source": [
    "daily_tasks = [\"email shoaib\", \"call bhai\", \"meet with customers\"]\n"
   ]
  },
  {
   "cell_type": "code",
   "execution_count": 54,
   "id": "04737cdd",
   "metadata": {},
   "outputs": [],
   "source": [
    "task_completed=[]"
   ]
  },
  {
   "cell_type": "code",
   "execution_count": 55,
   "id": "5db725ad",
   "metadata": {},
   "outputs": [
    {
     "data": {
      "text/plain": [
       "[]"
      ]
     },
     "execution_count": 55,
     "metadata": {},
     "output_type": "execute_result"
    }
   ],
   "source": [
    "task_completed"
   ]
  },
  {
   "cell_type": "code",
   "execution_count": 56,
   "id": "a9599ee0",
   "metadata": {},
   "outputs": [],
   "source": [
    "task_completed.insert(0,daily_tasks.pop())"
   ]
  },
  {
   "cell_type": "code",
   "execution_count": 57,
   "id": "a4bb70d5",
   "metadata": {},
   "outputs": [
    {
     "data": {
      "text/plain": [
       "['meet with customers']"
      ]
     },
     "execution_count": 57,
     "metadata": {},
     "output_type": "execute_result"
    }
   ],
   "source": [
    "task_completed"
   ]
  },
  {
   "cell_type": "code",
   "execution_count": 58,
   "id": "de6871cd",
   "metadata": {},
   "outputs": [],
   "source": [
    "task_completed.insert(1,daily_tasks.pop(1))"
   ]
  },
  {
   "cell_type": "code",
   "execution_count": 59,
   "id": "eb94f6db",
   "metadata": {},
   "outputs": [
    {
     "data": {
      "text/plain": [
       "['meet with customers', 'call bhai']"
      ]
     },
     "execution_count": 59,
     "metadata": {},
     "output_type": "execute_result"
    }
   ],
   "source": [
    "task_completed"
   ]
  },
  {
   "cell_type": "markdown",
   "id": "88637186",
   "metadata": {},
   "source": [
    "## Tuples:"
   ]
  },
  {
   "cell_type": "code",
   "execution_count": 63,
   "id": "f52f0390",
   "metadata": {},
   "outputs": [],
   "source": [
    "tuple_myself=('tasawor','khan',20,5.11,False)"
   ]
  },
  {
   "cell_type": "code",
   "execution_count": 64,
   "id": "41676088",
   "metadata": {},
   "outputs": [
    {
     "data": {
      "text/plain": [
       "('tasawor', 'khan', 20, 5.11, False)"
      ]
     },
     "execution_count": 64,
     "metadata": {},
     "output_type": "execute_result"
    }
   ],
   "source": [
    "tuple_myself"
   ]
  },
  {
   "cell_type": "code",
   "execution_count": 65,
   "id": "024a1198",
   "metadata": {},
   "outputs": [
    {
     "data": {
      "text/plain": [
       "tuple"
      ]
     },
     "execution_count": 65,
     "metadata": {},
     "output_type": "execute_result"
    }
   ],
   "source": [
    "type(tuple_myself)"
   ]
  },
  {
   "cell_type": "code",
   "execution_count": 66,
   "id": "8c5d4ce1",
   "metadata": {},
   "outputs": [
    {
     "data": {
      "text/plain": [
       "20"
      ]
     },
     "execution_count": 66,
     "metadata": {},
     "output_type": "execute_result"
    }
   ],
   "source": [
    "tuple_myself[2]"
   ]
  },
  {
   "cell_type": "code",
   "execution_count": 67,
   "id": "a69d7a2d",
   "metadata": {},
   "outputs": [
    {
     "data": {
      "text/plain": [
       "1"
      ]
     },
     "execution_count": 67,
     "metadata": {},
     "output_type": "execute_result"
    }
   ],
   "source": [
    "tuple_myself.count(\"tasawor\")"
   ]
  },
  {
   "cell_type": "code",
   "execution_count": 68,
   "id": "41e61a73",
   "metadata": {},
   "outputs": [
    {
     "data": {
      "text/plain": [
       "2"
      ]
     },
     "execution_count": 68,
     "metadata": {},
     "output_type": "execute_result"
    }
   ],
   "source": [
    "tuple_myself.index(20)"
   ]
  },
  {
   "cell_type": "code",
   "execution_count": 69,
   "id": "5cfa72b8",
   "metadata": {},
   "outputs": [
    {
     "ename": "TypeError",
     "evalue": "'tuple' object does not support item assignment",
     "output_type": "error",
     "traceback": [
      "\u001b[1;31m---------------------------------------------------------------------------\u001b[0m",
      "\u001b[1;31mTypeError\u001b[0m                                 Traceback (most recent call last)",
      "Cell \u001b[1;32mIn[69], line 1\u001b[0m\n\u001b[1;32m----> 1\u001b[0m tuple_myself[\u001b[38;5;241m3\u001b[39m]\u001b[38;5;241m=\u001b[39m\u001b[38;5;124m\"\u001b[39m\u001b[38;5;124mkk\u001b[39m\u001b[38;5;124m\"\u001b[39m\n",
      "\u001b[1;31mTypeError\u001b[0m: 'tuple' object does not support item assignment"
     ]
    }
   ],
   "source": [
    "tuple_myself[3]=\"kk\""
   ]
  },
  {
   "cell_type": "markdown",
   "id": "f5c4c526",
   "metadata": {},
   "source": [
    "# For loops"
   ]
  },
  {
   "cell_type": "code",
   "execution_count": 70,
   "id": "fa4ceee7",
   "metadata": {},
   "outputs": [
    {
     "data": {
      "text/plain": [
       "['Karachi',\n",
       " 'Atlanta',\n",
       " 'Baltimore',\n",
       " 'Chicago',\n",
       " 'Denver',\n",
       " 'Los Angeles',\n",
       " 'Seattle',\n",
       " 'karachi']"
      ]
     },
     "execution_count": 70,
     "metadata": {},
     "output_type": "execute_result"
    }
   ],
   "source": [
    "cities"
   ]
  },
  {
   "cell_type": "code",
   "execution_count": 72,
   "id": "0d2235fe",
   "metadata": {},
   "outputs": [
    {
     "name": "stdout",
     "output_type": "stream",
     "text": [
      "not available\n",
      "not available\n",
      "not available\n",
      "not available\n",
      "not available\n",
      "not available\n",
      "not available\n",
      "Apna shehr\n"
     ]
    }
   ],
   "source": [
    "for i in cities:\n",
    "    if i==\"karachi\":\n",
    "        print(\"Apna shehr\")\n",
    "    else:\n",
    "        print(\"not available\")"
   ]
  },
  {
   "cell_type": "code",
   "execution_count": 73,
   "id": "f0acf465",
   "metadata": {},
   "outputs": [
    {
     "name": "stdout",
     "output_type": "stream",
     "text": [
      "Enter a Year: 1800\n",
      "1800 is a leap year\n"
     ]
    }
   ],
   "source": [
    "year = int(input(\"Enter a Year: \"))\n",
    "\n",
    "if (year % 4 ==0) and (year % 100 ==0) or (year % 400 ==0):\n",
    "    print(f\"{year} is a leap year\")\n",
    "else:\n",
    "    print(f\"{year} is not leap year\")"
   ]
  },
  {
   "cell_type": "code",
   "execution_count": 2,
   "id": "606590a6",
   "metadata": {},
   "outputs": [
    {
     "name": "stdout",
     "output_type": "stream",
     "text": [
      "1200is a leap year\n",
      "1600is a leap year\n",
      "2023is not a leap year\n",
      "2022is not a leap year\n"
     ]
    }
   ],
   "source": [
    "for year in [1200,1600,2023,2022]:\n",
    "    if (year%4==0)and(year%100==0)or(year%400==0):\n",
    "        print(f\"{year}is a leap year\")\n",
    "        \n",
    "    else:\n",
    "        print(f\"{year}is not a leap year\")\n",
    "              \n",
    "    \n"
   ]
  },
  {
   "cell_type": "code",
   "execution_count": 3,
   "id": "718a6aa4",
   "metadata": {},
   "outputs": [
    {
     "name": "stdout",
     "output_type": "stream",
     "text": [
      "1600\n",
      "loop cycle end\n",
      "1700\n",
      "loop cycle end\n",
      "1800\n",
      "loop cycle end\n",
      "1900\n",
      "loop cycle end\n"
     ]
    }
   ],
   "source": [
    "for i in [1600,1700,1800,1900]:\n",
    "    print(i)\n",
    "    print(\"loop cycle end\")"
   ]
  },
  {
   "cell_type": "markdown",
   "id": "05c70a11",
   "metadata": {},
   "source": [
    "## range function:"
   ]
  },
  {
   "cell_type": "code",
   "execution_count": 5,
   "id": "4862f364",
   "metadata": {},
   "outputs": [
    {
     "data": {
      "text/plain": [
       "range(0, 10)"
      ]
     },
     "execution_count": 5,
     "metadata": {},
     "output_type": "execute_result"
    }
   ],
   "source": [
    "'''\n",
    "range is a generator function\n",
    "range 10-9,3\n",
    "range (start,end,step)\n",
    "\n",
    "'''\n",
    "\n",
    "range(10)"
   ]
  },
  {
   "cell_type": "code",
   "execution_count": 6,
   "id": "fa1dc413",
   "metadata": {},
   "outputs": [
    {
     "name": "stdout",
     "output_type": "stream",
     "text": [
      "0\n",
      "1\n",
      "2\n",
      "3\n",
      "4\n",
      "5\n",
      "6\n",
      "7\n",
      "8\n",
      "9\n"
     ]
    }
   ],
   "source": [
    "for i in range(0,10):\n",
    "    print(i)"
   ]
  },
  {
   "cell_type": "code",
   "execution_count": 7,
   "id": "2ba320af",
   "metadata": {},
   "outputs": [
    {
     "name": "stdout",
     "output_type": "stream",
     "text": [
      "10\n",
      "11\n",
      "12\n",
      "13\n",
      "14\n",
      "15\n"
     ]
    }
   ],
   "source": [
    "for i in range(10,16):\n",
    "    print(i)"
   ]
  },
  {
   "cell_type": "code",
   "execution_count": 8,
   "id": "417aa3d8",
   "metadata": {},
   "outputs": [
    {
     "name": "stdout",
     "output_type": "stream",
     "text": [
      "85\n",
      "87\n",
      "89\n",
      "91\n",
      "93\n",
      "95\n",
      "97\n",
      "99\n"
     ]
    }
   ],
   "source": [
    "for i in range(85,100,2):\n",
    "    print(i)"
   ]
  },
  {
   "cell_type": "code",
   "execution_count": 9,
   "id": "dbb65261",
   "metadata": {},
   "outputs": [],
   "source": [
    "cleanest_cities = [\"Cheyenne\",\n",
    "                   \"Santa Fe\",\n",
    "                   \"Tucson\",\n",
    "                   \"Great Falls\",\n",
    "                   \"Honolulu\"]"
   ]
  },
  {
   "cell_type": "code",
   "execution_count": 10,
   "id": "7e2e40b8",
   "metadata": {},
   "outputs": [
    {
     "name": "stdout",
     "output_type": "stream",
     "text": [
      "It's one of the cleanest cities\n"
     ]
    }
   ],
   "source": [
    "city_to_check = \"Honolulu\"\n",
    "\n",
    "if city_to_check == cleanest_cities[0]:\n",
    "    print(\"It's one of the cleanest cities\")\n",
    "elif city_to_check == cleanest_cities[1]:\n",
    "    print(\"It's one of the cleanest cities\")\n",
    "elif city_to_check == cleanest_cities[2]:\n",
    "    print(\"It's one of the cleanest cities\")\n",
    "elif city_to_check == cleanest_cities[3]:\n",
    "    print(\"It's one of the cleanest cities\")\n",
    "elif city_to_check == cleanest_cities[4]:\n",
    "    print(\"It's one of the cleanest cities\")\n",
    "else:\n",
    "    print(\"Not Available\")"
   ]
  },
  {
   "cell_type": "code",
   "execution_count": 12,
   "id": "68a77ece",
   "metadata": {},
   "outputs": [
    {
     "name": "stdout",
     "output_type": "stream",
     "text": [
      "not\n",
      "not\n",
      "not\n",
      "not\n",
      "It's one of the cleanest cities\n"
     ]
    }
   ],
   "source": [
    "for a_clean_city in cleanest_cities:\n",
    "    if city_to_check==a_clean_city:\n",
    "        print(\"It's one of the cleanest cities\")\n",
    "    else:\n",
    "        print(\"not\")"
   ]
  },
  {
   "cell_type": "code",
   "execution_count": null,
   "id": "defa8e4c",
   "metadata": {},
   "outputs": [],
   "source": []
  }
 ],
 "metadata": {
  "kernelspec": {
   "display_name": "Python 3 (ipykernel)",
   "language": "python",
   "name": "python3"
  },
  "language_info": {
   "codemirror_mode": {
    "name": "ipython",
    "version": 3
   },
   "file_extension": ".py",
   "mimetype": "text/x-python",
   "name": "python",
   "nbconvert_exporter": "python",
   "pygments_lexer": "ipython3",
   "version": "3.11.5"
  }
 },
 "nbformat": 4,
 "nbformat_minor": 5
}
