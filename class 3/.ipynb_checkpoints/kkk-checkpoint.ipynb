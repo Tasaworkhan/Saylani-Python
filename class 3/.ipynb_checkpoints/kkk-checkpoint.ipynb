{
 "cells": [
  {
   "cell_type": "code",
   "execution_count": 1,
   "id": "8bc9c374",
   "metadata": {},
   "outputs": [],
   "source": [
    "name= \"tasawor\""
   ]
  },
  {
   "cell_type": "code",
   "execution_count": 2,
   "id": "ad18c094",
   "metadata": {},
   "outputs": [
    {
     "data": {
      "text/plain": [
       "'tasawor'"
      ]
     },
     "execution_count": 2,
     "metadata": {},
     "output_type": "execute_result"
    }
   ],
   "source": [
    "name"
   ]
  },
  {
   "cell_type": "code",
   "execution_count": 5,
   "id": "3784e3e6",
   "metadata": {},
   "outputs": [],
   "source": [
    "name= \"lal\""
   ]
  },
  {
   "cell_type": "code",
   "execution_count": 6,
   "id": "98a9b83e",
   "metadata": {},
   "outputs": [
    {
     "data": {
      "text/plain": [
       "'lal'"
      ]
     },
     "execution_count": 6,
     "metadata": {},
     "output_type": "execute_result"
    }
   ],
   "source": [
    "name"
   ]
  },
  {
   "cell_type": "code",
   "execution_count": 7,
   "id": "6fbaaaaf",
   "metadata": {},
   "outputs": [],
   "source": [
    "a_b= \"gg'morning\""
   ]
  },
  {
   "cell_type": "code",
   "execution_count": 8,
   "id": "c0683a80",
   "metadata": {},
   "outputs": [
    {
     "data": {
      "text/plain": [
       "\"gg'morning\""
      ]
     },
     "execution_count": 8,
     "metadata": {},
     "output_type": "execute_result"
    }
   ],
   "source": [
    "a_b"
   ]
  },
  {
   "cell_type": "code",
   "execution_count": 16,
   "id": "5498101c",
   "metadata": {},
   "outputs": [],
   "source": [
    "a_c= 45"
   ]
  },
  {
   "cell_type": "markdown",
   "id": "4b7850fd",
   "metadata": {},
   "source": [
    "# variable for numbers"
   ]
  },
  {
   "cell_type": "code",
   "execution_count": 17,
   "id": "d585e293",
   "metadata": {},
   "outputs": [],
   "source": [
    "age= 18"
   ]
  },
  {
   "cell_type": "code",
   "execution_count": 18,
   "id": "863d8d1c",
   "metadata": {},
   "outputs": [
    {
     "data": {
      "text/plain": [
       "18"
      ]
     },
     "execution_count": 18,
     "metadata": {},
     "output_type": "execute_result"
    }
   ],
   "source": [
    "age"
   ]
  },
  {
   "cell_type": "code",
   "execution_count": 19,
   "id": "7c337756",
   "metadata": {},
   "outputs": [
    {
     "data": {
      "text/plain": [
       "19"
      ]
     },
     "execution_count": 19,
     "metadata": {},
     "output_type": "execute_result"
    }
   ],
   "source": [
    "age+1"
   ]
  },
  {
   "cell_type": "code",
   "execution_count": 20,
   "id": "a7bdd12e",
   "metadata": {},
   "outputs": [
    {
     "data": {
      "text/plain": [
       "18"
      ]
     },
     "execution_count": 20,
     "metadata": {},
     "output_type": "execute_result"
    }
   ],
   "source": [
    "age"
   ]
  },
  {
   "cell_type": "code",
   "execution_count": 21,
   "id": "3b9b008a",
   "metadata": {},
   "outputs": [
    {
     "data": {
      "text/plain": [
       "33"
      ]
     },
     "execution_count": 21,
     "metadata": {},
     "output_type": "execute_result"
    }
   ],
   "source": [
    "45-12"
   ]
  },
  {
   "cell_type": "code",
   "execution_count": 22,
   "id": "d856ac7f",
   "metadata": {},
   "outputs": [
    {
     "data": {
      "text/plain": [
       "100"
      ]
     },
     "execution_count": 22,
     "metadata": {},
     "output_type": "execute_result"
    }
   ],
   "source": [
    "25*4"
   ]
  },
  {
   "cell_type": "code",
   "execution_count": 23,
   "id": "4a206603",
   "metadata": {},
   "outputs": [
    {
     "data": {
      "text/plain": [
       "256"
      ]
     },
     "execution_count": 23,
     "metadata": {},
     "output_type": "execute_result"
    }
   ],
   "source": [
    "4**4"
   ]
  },
  {
   "cell_type": "code",
   "execution_count": 24,
   "id": "ff3c5951",
   "metadata": {},
   "outputs": [
    {
     "data": {
      "text/plain": [
       "5.0"
      ]
     },
     "execution_count": 24,
     "metadata": {},
     "output_type": "execute_result"
    }
   ],
   "source": [
    "25/5"
   ]
  },
  {
   "cell_type": "code",
   "execution_count": 25,
   "id": "33f94cb4",
   "metadata": {},
   "outputs": [
    {
     "data": {
      "text/plain": [
       "5"
      ]
     },
     "execution_count": 25,
     "metadata": {},
     "output_type": "execute_result"
    }
   ],
   "source": [
    "25//5"
   ]
  },
  {
   "cell_type": "code",
   "execution_count": 26,
   "id": "54feebdb",
   "metadata": {},
   "outputs": [
    {
     "data": {
      "text/plain": [
       "3.0"
      ]
     },
     "execution_count": 26,
     "metadata": {},
     "output_type": "execute_result"
    }
   ],
   "source": [
    "6.5//2"
   ]
  },
  {
   "cell_type": "code",
   "execution_count": 27,
   "id": "ad9151c8",
   "metadata": {},
   "outputs": [
    {
     "data": {
      "text/plain": [
       "4.0"
      ]
     },
     "execution_count": 27,
     "metadata": {},
     "output_type": "execute_result"
    }
   ],
   "source": [
    "-(-6.5//2)"
   ]
  },
  {
   "cell_type": "code",
   "execution_count": 28,
   "id": "180bacf3",
   "metadata": {},
   "outputs": [
    {
     "data": {
      "text/plain": [
       "1"
      ]
     },
     "execution_count": 28,
     "metadata": {},
     "output_type": "execute_result"
    }
   ],
   "source": [
    "9%2"
   ]
  },
  {
   "cell_type": "code",
   "execution_count": 29,
   "id": "d2992dd6",
   "metadata": {},
   "outputs": [],
   "source": [
    "age+=2"
   ]
  },
  {
   "cell_type": "code",
   "execution_count": 30,
   "id": "cb83a8ab",
   "metadata": {},
   "outputs": [
    {
     "data": {
      "text/plain": [
       "20"
      ]
     },
     "execution_count": 30,
     "metadata": {},
     "output_type": "execute_result"
    }
   ],
   "source": [
    "age"
   ]
  },
  {
   "cell_type": "code",
   "execution_count": null,
   "id": "2f414066",
   "metadata": {},
   "outputs": [],
   "source": []
  }
 ],
 "metadata": {
  "kernelspec": {
   "display_name": "Python 3 (ipykernel)",
   "language": "python",
   "name": "python3"
  },
  "language_info": {
   "codemirror_mode": {
    "name": "ipython",
    "version": 3
   },
   "file_extension": ".py",
   "mimetype": "text/x-python",
   "name": "python",
   "nbconvert_exporter": "python",
   "pygments_lexer": "ipython3",
   "version": "3.11.5"
  }
 },
 "nbformat": 4,
 "nbformat_minor": 5
}
