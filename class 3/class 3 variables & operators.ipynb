{
 "cells": [
  {
   "cell_type": "code",
   "execution_count": 1,
   "id": "c71f4333",
   "metadata": {},
   "outputs": [],
   "source": [
    "name= \"tasawor\""
   ]
  },
  {
   "cell_type": "code",
   "execution_count": 2,
   "id": "585bf154",
   "metadata": {},
   "outputs": [
    {
     "data": {
      "text/plain": [
       "'tasawor'"
      ]
     },
     "execution_count": 2,
     "metadata": {},
     "output_type": "execute_result"
    }
   ],
   "source": [
    "name"
   ]
  },
  {
   "cell_type": "code",
   "execution_count": 5,
   "id": "4a61f4df",
   "metadata": {},
   "outputs": [],
   "source": [
    "name= \"lal\""
   ]
  },
  {
   "cell_type": "code",
   "execution_count": 6,
   "id": "3367c79b",
   "metadata": {},
   "outputs": [
    {
     "data": {
      "text/plain": [
       "'lal'"
      ]
     },
     "execution_count": 6,
     "metadata": {},
     "output_type": "execute_result"
    }
   ],
   "source": [
    "name"
   ]
  },
  {
   "cell_type": "code",
   "execution_count": 7,
   "id": "7c0fdef4",
   "metadata": {},
   "outputs": [],
   "source": [
    "a_b= \"gg'morning\""
   ]
  },
  {
   "cell_type": "code",
   "execution_count": 8,
   "id": "120f1e16",
   "metadata": {},
   "outputs": [
    {
     "data": {
      "text/plain": [
       "\"gg'morning\""
      ]
     },
     "execution_count": 8,
     "metadata": {},
     "output_type": "execute_result"
    }
   ],
   "source": [
    "a_b"
   ]
  },
  {
   "cell_type": "code",
   "execution_count": 16,
   "id": "797226e4",
   "metadata": {},
   "outputs": [],
   "source": [
    "a_c= 45"
   ]
  },
  {
   "cell_type": "markdown",
   "id": "44e4a6e3",
   "metadata": {},
   "source": [
    "# variable for numbers"
   ]
  },
  {
   "cell_type": "code",
   "execution_count": 17,
   "id": "c956e9c0",
   "metadata": {},
   "outputs": [],
   "source": [
    "age= 18"
   ]
  },
  {
   "cell_type": "code",
   "execution_count": 18,
   "id": "8ee7bee4",
   "metadata": {},
   "outputs": [
    {
     "data": {
      "text/plain": [
       "18"
      ]
     },
     "execution_count": 18,
     "metadata": {},
     "output_type": "execute_result"
    }
   ],
   "source": [
    "age"
   ]
  },
  {
   "cell_type": "code",
   "execution_count": 19,
   "id": "43a97d65",
   "metadata": {},
   "outputs": [
    {
     "data": {
      "text/plain": [
       "19"
      ]
     },
     "execution_count": 19,
     "metadata": {},
     "output_type": "execute_result"
    }
   ],
   "source": [
    "age+1"
   ]
  },
  {
   "cell_type": "code",
   "execution_count": 20,
   "id": "20a9c936",
   "metadata": {},
   "outputs": [
    {
     "data": {
      "text/plain": [
       "18"
      ]
     },
     "execution_count": 20,
     "metadata": {},
     "output_type": "execute_result"
    }
   ],
   "source": [
    "age"
   ]
  },
  {
   "cell_type": "code",
   "execution_count": 21,
   "id": "4fb2b0cf",
   "metadata": {},
   "outputs": [
    {
     "data": {
      "text/plain": [
       "33"
      ]
     },
     "execution_count": 21,
     "metadata": {},
     "output_type": "execute_result"
    }
   ],
   "source": [
    "45-12"
   ]
  },
  {
   "cell_type": "code",
   "execution_count": 22,
   "id": "49bd0092",
   "metadata": {},
   "outputs": [
    {
     "data": {
      "text/plain": [
       "100"
      ]
     },
     "execution_count": 22,
     "metadata": {},
     "output_type": "execute_result"
    }
   ],
   "source": [
    "25*4"
   ]
  },
  {
   "cell_type": "code",
   "execution_count": 23,
   "id": "65aabdbf",
   "metadata": {},
   "outputs": [
    {
     "data": {
      "text/plain": [
       "256"
      ]
     },
     "execution_count": 23,
     "metadata": {},
     "output_type": "execute_result"
    }
   ],
   "source": [
    "4**4"
   ]
  },
  {
   "cell_type": "code",
   "execution_count": 24,
   "id": "5447ba6c",
   "metadata": {},
   "outputs": [
    {
     "data": {
      "text/plain": [
       "5.0"
      ]
     },
     "execution_count": 24,
     "metadata": {},
     "output_type": "execute_result"
    }
   ],
   "source": [
    "25/5"
   ]
  },
  {
   "cell_type": "code",
   "execution_count": 25,
   "id": "24df1d83",
   "metadata": {},
   "outputs": [
    {
     "data": {
      "text/plain": [
       "5"
      ]
     },
     "execution_count": 25,
     "metadata": {},
     "output_type": "execute_result"
    }
   ],
   "source": [
    "25//5"
   ]
  },
  {
   "cell_type": "code",
   "execution_count": 26,
   "id": "90a6bf14",
   "metadata": {},
   "outputs": [
    {
     "data": {
      "text/plain": [
       "3.0"
      ]
     },
     "execution_count": 26,
     "metadata": {},
     "output_type": "execute_result"
    }
   ],
   "source": [
    "6.5//2"
   ]
  },
  {
   "cell_type": "code",
   "execution_count": 27,
   "id": "7c85d9cd",
   "metadata": {},
   "outputs": [
    {
     "data": {
      "text/plain": [
       "4.0"
      ]
     },
     "execution_count": 27,
     "metadata": {},
     "output_type": "execute_result"
    }
   ],
   "source": [
    "-(-6.5//2)"
   ]
  },
  {
   "cell_type": "code",
   "execution_count": 28,
   "id": "35e9e1d9",
   "metadata": {},
   "outputs": [
    {
     "data": {
      "text/plain": [
       "1"
      ]
     },
     "execution_count": 28,
     "metadata": {},
     "output_type": "execute_result"
    }
   ],
   "source": [
    "9%2"
   ]
  },
  {
   "cell_type": "code",
   "execution_count": 29,
   "id": "b72d7b3c",
   "metadata": {},
   "outputs": [],
   "source": [
    "age+=2"
   ]
  },
  {
   "cell_type": "code",
   "execution_count": 30,
   "id": "a79cae67",
   "metadata": {},
   "outputs": [
    {
     "data": {
      "text/plain": [
       "20"
      ]
     },
     "execution_count": 30,
     "metadata": {},
     "output_type": "execute_result"
    }
   ],
   "source": [
    "age"
   ]
  },
  {
   "cell_type": "code",
   "execution_count": null,
   "id": "862d54ca",
   "metadata": {},
   "outputs": [],
   "source": []
  }
 ],
 "metadata": {
  "kernelspec": {
   "display_name": "Python 3 (ipykernel)",
   "language": "python",
   "name": "python3"
  },
  "language_info": {
   "codemirror_mode": {
    "name": "ipython",
    "version": 3
   },
   "file_extension": ".py",
   "mimetype": "text/x-python",
   "name": "python",
   "nbconvert_exporter": "python",
   "pygments_lexer": "ipython3",
   "version": "3.11.5"
  }
 },
 "nbformat": 4,
 "nbformat_minor": 5
}
