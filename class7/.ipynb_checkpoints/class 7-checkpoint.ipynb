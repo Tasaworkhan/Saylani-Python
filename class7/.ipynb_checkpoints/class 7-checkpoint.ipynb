{
 "cells": [
  {
   "cell_type": "markdown",
   "id": "7f88f04d",
   "metadata": {},
   "source": [
    "# If ,Elif,Else Conditional statements\n"
   ]
  },
  {
   "cell_type": "code",
   "execution_count": 7,
   "id": "f8167343",
   "metadata": {},
   "outputs": [
    {
     "name": "stdout",
     "output_type": "stream",
     "text": [
      "enter fruit price: low\n",
      "enter your wish: Ok\n",
      "10 ready to buy\n"
     ]
    }
   ],
   "source": [
    "fruit_price = input('enter fruit price: ')\n",
    "fruit_condition=input(\"enter your wish: \")\n",
    "importance=0\n",
    "\n",
    "if fruit_price==\"low\":\n",
    "    importance=5\n",
    "    if fruit_condition==\"Ok\":\n",
    "        importance=10\n",
    "    else:\n",
    "        print(\"not good\")\n",
    "else:\n",
    "    print(\"not ready to buy\")\n",
    "print(f\"{importance} ready to buy\")   "
   ]
  },
  {
   "cell_type": "code",
   "execution_count": 11,
   "id": "c466c7e2",
   "metadata": {},
   "outputs": [
    {
     "name": "stdout",
     "output_type": "stream",
     "text": [
      "enter fruit price: low\n",
      "enter your wish: ok\n",
      "5\n"
     ]
    }
   ],
   "source": [
    "fruit_price = input('enter fruit price: ')\n",
    "fruit_condition=input(\"enter your wish: \")\n",
    "importance=0\n",
    "\n",
    "if fruit_price==\"low\":\n",
    "    importance=5\n",
    "elif fruit_condition==\"ok\":\n",
    "    importance=3\n",
    "else:\n",
    "    print(\"go to next shop\")\n",
    "print(importance)    \n",
    "    "
   ]
  },
  {
   "cell_type": "markdown",
   "id": "b8f12f84",
   "metadata": {},
   "source": [
    "# Logical Gates Or Operators\n",
    "\n"
   ]
  },
  {
   "cell_type": "code",
   "execution_count": 12,
   "id": "d8eabe1b",
   "metadata": {},
   "outputs": [
    {
     "data": {
      "text/plain": [
       "True"
      ]
     },
     "execution_count": 12,
     "metadata": {},
     "output_type": "execute_result"
    }
   ],
   "source": [
    "10>5 and 6!=5"
   ]
  },
  {
   "cell_type": "code",
   "execution_count": 14,
   "id": "4a10f142",
   "metadata": {},
   "outputs": [
    {
     "data": {
      "text/plain": [
       "True"
      ]
     },
     "execution_count": 14,
     "metadata": {},
     "output_type": "execute_result"
    }
   ],
   "source": [
    "12>10 or 5!=5"
   ]
  },
  {
   "cell_type": "code",
   "execution_count": 18,
   "id": "36c8796e",
   "metadata": {},
   "outputs": [
    {
     "name": "stdout",
     "output_type": "stream",
     "text": [
      "enter fruit price high/low: low\n",
      "enter your wish Fresh/not fresh: not frsh\n",
      "go to next shop\n",
      "0\n"
     ]
    }
   ],
   "source": [
    "fruit_price = input('enter fruit price high/low: ')\n",
    "fruit_type=input(\"enter your wish Fresh/not fresh: \")\n",
    "importance=0\n",
    "\n",
    "if fruit_price== \"low\" and fruit_type==\"Fresh\":\n",
    "    importance=10\n",
    "else:\n",
    "    print(\"go to next shop\")\n",
    "print(importance)    "
   ]
  },
  {
   "cell_type": "code",
   "execution_count": 17,
   "id": "f9777983",
   "metadata": {},
   "outputs": [
    {
     "name": "stdout",
     "output_type": "stream",
     "text": [
      "enter fruit price high/low: low\n",
      "enter your wish Fresh/not fresh: not ffrseh\n",
      "10\n"
     ]
    }
   ],
   "source": [
    "fruit_price = input('enter fruit price high/low: ')\n",
    "fruit_type=input(\"enter your wish Fresh/not fresh: \")\n",
    "importance=0\n",
    "\n",
    "if fruit_price== \"low\" or fruit_type==\"Fresh\":\n",
    "    importance=10\n",
    "else:\n",
    "    print(\"go to next shop\")\n",
    "print(importance) "
   ]
  },
  {
   "cell_type": "markdown",
   "id": "5b3ebe50",
   "metadata": {},
   "source": [
    "# Lists:\n"
   ]
  },
  {
   "cell_type": "code",
   "execution_count": 19,
   "id": "e832f470",
   "metadata": {},
   "outputs": [],
   "source": [
    "countries=[\"pakistan\",\"turkey\",\"afghanistan\",\"palestine\"]"
   ]
  },
  {
   "cell_type": "code",
   "execution_count": 20,
   "id": "01322efc",
   "metadata": {},
   "outputs": [
    {
     "data": {
      "text/plain": [
       "['pakistan', 'turkey', 'afghanistan', 'palestine']"
      ]
     },
     "execution_count": 20,
     "metadata": {},
     "output_type": "execute_result"
    }
   ],
   "source": [
    "countries\n"
   ]
  },
  {
   "cell_type": "code",
   "execution_count": 21,
   "id": "5e4edf7f",
   "metadata": {},
   "outputs": [
    {
     "data": {
      "text/plain": [
       "list"
      ]
     },
     "execution_count": 21,
     "metadata": {},
     "output_type": "execute_result"
    }
   ],
   "source": [
    "type(countries)"
   ]
  },
  {
   "cell_type": "code",
   "execution_count": 22,
   "id": "90d6811c",
   "metadata": {},
   "outputs": [
    {
     "data": {
      "text/plain": [
       "['pakistan', 'turkey', 'afghanistan', 'palestine']"
      ]
     },
     "execution_count": 22,
     "metadata": {},
     "output_type": "execute_result"
    }
   ],
   "source": [
    "countries[0:]"
   ]
  },
  {
   "cell_type": "code",
   "execution_count": 23,
   "id": "2eb6fe33",
   "metadata": {},
   "outputs": [
    {
     "data": {
      "text/plain": [
       "['pakistan', 'turkey']"
      ]
     },
     "execution_count": 23,
     "metadata": {},
     "output_type": "execute_result"
    }
   ],
   "source": [
    "countries[0:2]"
   ]
  },
  {
   "cell_type": "code",
   "execution_count": 24,
   "id": "d6cbd19d",
   "metadata": {},
   "outputs": [
    {
     "data": {
      "text/plain": [
       "['turkey', 'afghanistan', 'palestine']"
      ]
     },
     "execution_count": 24,
     "metadata": {},
     "output_type": "execute_result"
    }
   ],
   "source": [
    "countries[1:4]"
   ]
  },
  {
   "cell_type": "code",
   "execution_count": 25,
   "id": "7f6d0de7",
   "metadata": {},
   "outputs": [
    {
     "data": {
      "text/plain": [
       "['pakistan', 'turkey', 'afghanistan', 'palestine']"
      ]
     },
     "execution_count": 25,
     "metadata": {},
     "output_type": "execute_result"
    }
   ],
   "source": [
    "countries[:]"
   ]
  },
  {
   "cell_type": "code",
   "execution_count": 26,
   "id": "16bad765",
   "metadata": {},
   "outputs": [
    {
     "data": {
      "text/plain": [
       "'turk'"
      ]
     },
     "execution_count": 26,
     "metadata": {},
     "output_type": "execute_result"
    }
   ],
   "source": [
    "countries[1][:4]"
   ]
  },
  {
   "cell_type": "code",
   "execution_count": 27,
   "id": "570193df",
   "metadata": {},
   "outputs": [
    {
     "data": {
      "text/plain": [
       "'pak'"
      ]
     },
     "execution_count": 27,
     "metadata": {},
     "output_type": "execute_result"
    }
   ],
   "source": [
    "countries[0][:3]"
   ]
  },
  {
   "cell_type": "code",
   "execution_count": null,
   "id": "002f7d5d",
   "metadata": {},
   "outputs": [],
   "source": []
  }
 ],
 "metadata": {
  "kernelspec": {
   "display_name": "Python 3 (ipykernel)",
   "language": "python",
   "name": "python3"
  },
  "language_info": {
   "codemirror_mode": {
    "name": "ipython",
    "version": 3
   },
   "file_extension": ".py",
   "mimetype": "text/x-python",
   "name": "python",
   "nbconvert_exporter": "python",
   "pygments_lexer": "ipython3",
   "version": "3.11.5"
  }
 },
 "nbformat": 4,
 "nbformat_minor": 5
}
