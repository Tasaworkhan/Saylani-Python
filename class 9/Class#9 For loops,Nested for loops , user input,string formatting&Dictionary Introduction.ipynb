{
 "cells": [
  {
   "cell_type": "code",
   "execution_count": 1,
   "id": "18b5bdd9",
   "metadata": {},
   "outputs": [],
   "source": [
    "cleanest_cities = [\"Cheyenne\", \"Santa Fe\", \"Tucson\",\n",
    "\"Great Falls\", \"Honolulu\"]\n"
   ]
  },
  {
   "cell_type": "code",
   "execution_count": 6,
   "id": "df4c90f2",
   "metadata": {},
   "outputs": [
    {
     "name": "stdout",
     "output_type": "stream",
     "text": [
      "city no found\n",
      "city no found\n",
      "It's one of the cleanest cities\n"
     ]
    }
   ],
   "source": [
    "city_to_check = \"Tucson\"\n",
    "\n",
    "for a_clean_city in cleanest_cities:\n",
    "    if city_to_check == a_clean_city:\n",
    "        print(\"It's one of the cleanest cities\")\n",
    "        break\n",
    "    else:\n",
    "           print(\"city no found\") \n",
    "             "
   ]
  },
  {
   "cell_type": "code",
   "execution_count": 3,
   "id": "9f7ca164",
   "metadata": {},
   "outputs": [],
   "source": [
    "fruits=[\"Apple\",\"Orange\",\"peache\",\"lychee\"]"
   ]
  },
  {
   "cell_type": "code",
   "execution_count": 4,
   "id": "3cb1d41f",
   "metadata": {},
   "outputs": [],
   "source": [
    "fruits.sort()"
   ]
  },
  {
   "cell_type": "code",
   "execution_count": 5,
   "id": "29f93cee",
   "metadata": {},
   "outputs": [
    {
     "data": {
      "text/plain": [
       "['Apple', 'Orange', 'lychee', 'peache']"
      ]
     },
     "execution_count": 5,
     "metadata": {},
     "output_type": "execute_result"
    }
   ],
   "source": [
    "fruits"
   ]
  },
  {
   "cell_type": "code",
   "execution_count": 9,
   "id": "96c13ea4",
   "metadata": {},
   "outputs": [],
   "source": [
    "fruits1=[\"Apple\",\"Dry\",\"Banana\",\"Dry\"]"
   ]
  },
  {
   "cell_type": "code",
   "execution_count": 10,
   "id": "032be28e",
   "metadata": {},
   "outputs": [],
   "source": [
    "fruits1.sort()"
   ]
  },
  {
   "cell_type": "code",
   "execution_count": 11,
   "id": "fd19a79b",
   "metadata": {},
   "outputs": [
    {
     "data": {
      "text/plain": [
       "['Apple', 'Banana', 'Dry', 'Dry']"
      ]
     },
     "execution_count": 11,
     "metadata": {},
     "output_type": "execute_result"
    }
   ],
   "source": [
    "fruits1"
   ]
  },
  {
   "cell_type": "code",
   "execution_count": 12,
   "id": "58f23353",
   "metadata": {},
   "outputs": [],
   "source": [
    "fruit1=fruits.copy()"
   ]
  },
  {
   "cell_type": "code",
   "execution_count": 13,
   "id": "3656d417",
   "metadata": {},
   "outputs": [
    {
     "data": {
      "text/plain": [
       "['Apple', 'Orange', 'lychee', 'peache']"
      ]
     },
     "execution_count": 13,
     "metadata": {},
     "output_type": "execute_result"
    }
   ],
   "source": [
    "fruit1"
   ]
  },
  {
   "cell_type": "markdown",
   "id": "3bf25d00",
   "metadata": {},
   "source": [
    "# Loops"
   ]
  },
  {
   "cell_type": "code",
   "execution_count": 17,
   "id": "bd3cc77c",
   "metadata": {},
   "outputs": [
    {
     "name": "stdout",
     "output_type": "stream",
     "text": [
      "not mine\n",
      "not mine\n",
      "not mine\n"
     ]
    }
   ],
   "source": [
    "for temp in fruit1:\n",
    "    if temp==\"Apple\":\n",
    "        continue\n",
    "        print(\"my fruit\")\n",
    "    \n",
    "    else:\n",
    "        print(\"not mine\")"
   ]
  },
  {
   "cell_type": "code",
   "execution_count": 18,
   "id": "20b59ffa",
   "metadata": {},
   "outputs": [
    {
     "name": "stdout",
     "output_type": "stream",
     "text": [
      "my fruit\n"
     ]
    }
   ],
   "source": [
    "for temp in fruit1:\n",
    "    if temp==\"Apple\":\n",
    "        print(\"my fruit\")\n",
    "        break\n",
    "    else:\n",
    "        print(\"not mine\")"
   ]
  },
  {
   "cell_type": "markdown",
   "id": "4c5d99b4",
   "metadata": {},
   "source": [
    "# Nested For loops:\n"
   ]
  },
  {
   "cell_type": "code",
   "execution_count": 21,
   "id": "0cd44619",
   "metadata": {},
   "outputs": [],
   "source": [
    "first_names = [\"BlueRay \", \"Upchuck \", \"Lojack \",\"Gizmo \", \"Do-Rag \"]\n",
    "last_names = [\"Zzz\", \"Burp\", \"Dogbone\", \"Droop\"]\n",
    "full_names = []\n",
    "for a_first_name in first_names:\n",
    "    for a_last_name in last_names:\n",
    "        full_names.append(a_first_name + \" \" +a_last_name)\n"
   ]
  },
  {
   "cell_type": "code",
   "execution_count": 22,
   "id": "5293320f",
   "metadata": {},
   "outputs": [
    {
     "data": {
      "text/plain": [
       "['BlueRay  Zzz',\n",
       " 'BlueRay  Burp',\n",
       " 'BlueRay  Dogbone',\n",
       " 'BlueRay  Droop',\n",
       " 'Upchuck  Zzz',\n",
       " 'Upchuck  Burp',\n",
       " 'Upchuck  Dogbone',\n",
       " 'Upchuck  Droop',\n",
       " 'Lojack  Zzz',\n",
       " 'Lojack  Burp',\n",
       " 'Lojack  Dogbone',\n",
       " 'Lojack  Droop',\n",
       " 'Gizmo  Zzz',\n",
       " 'Gizmo  Burp',\n",
       " 'Gizmo  Dogbone',\n",
       " 'Gizmo  Droop',\n",
       " 'Do-Rag  Zzz',\n",
       " 'Do-Rag  Burp',\n",
       " 'Do-Rag  Dogbone',\n",
       " 'Do-Rag  Droop']"
      ]
     },
     "execution_count": 22,
     "metadata": {},
     "output_type": "execute_result"
    }
   ],
   "source": [
    "full_names"
   ]
  },
  {
   "cell_type": "code",
   "execution_count": 33,
   "id": "f223c55d",
   "metadata": {},
   "outputs": [
    {
     "name": "stdout",
     "output_type": "stream",
     "text": [
      "2*1=2\n",
      "3*1=3\n",
      "3*2=6\n",
      "3*3=9\n",
      "3*4=12\n",
      "3*5=15\n",
      "3*6=18\n",
      "3*7=21\n",
      "3*8=24\n",
      "3*9=27\n",
      "3*10=30\n",
      "2*2=4\n",
      "3*1=3\n",
      "3*2=6\n",
      "3*3=9\n",
      "3*4=12\n",
      "3*5=15\n",
      "3*6=18\n",
      "3*7=21\n",
      "3*8=24\n",
      "3*9=27\n",
      "3*10=30\n",
      "2*3=6\n",
      "3*1=3\n",
      "3*2=6\n",
      "3*3=9\n",
      "3*4=12\n",
      "3*5=15\n",
      "3*6=18\n",
      "3*7=21\n",
      "3*8=24\n",
      "3*9=27\n",
      "3*10=30\n",
      "2*4=8\n",
      "3*1=3\n",
      "3*2=6\n",
      "3*3=9\n",
      "3*4=12\n",
      "3*5=15\n",
      "3*6=18\n",
      "3*7=21\n",
      "3*8=24\n",
      "3*9=27\n",
      "3*10=30\n",
      "2*5=10\n",
      "3*1=3\n",
      "3*2=6\n",
      "3*3=9\n",
      "3*4=12\n",
      "3*5=15\n",
      "3*6=18\n",
      "3*7=21\n",
      "3*8=24\n",
      "3*9=27\n",
      "3*10=30\n",
      "2*6=12\n",
      "3*1=3\n",
      "3*2=6\n",
      "3*3=9\n",
      "3*4=12\n",
      "3*5=15\n",
      "3*6=18\n",
      "3*7=21\n",
      "3*8=24\n",
      "3*9=27\n",
      "3*10=30\n",
      "2*7=14\n",
      "3*1=3\n",
      "3*2=6\n",
      "3*3=9\n",
      "3*4=12\n",
      "3*5=15\n",
      "3*6=18\n",
      "3*7=21\n",
      "3*8=24\n",
      "3*9=27\n",
      "3*10=30\n",
      "2*8=16\n",
      "3*1=3\n",
      "3*2=6\n",
      "3*3=9\n",
      "3*4=12\n",
      "3*5=15\n",
      "3*6=18\n",
      "3*7=21\n",
      "3*8=24\n",
      "3*9=27\n",
      "3*10=30\n",
      "2*9=18\n",
      "3*1=3\n",
      "3*2=6\n",
      "3*3=9\n",
      "3*4=12\n",
      "3*5=15\n",
      "3*6=18\n",
      "3*7=21\n",
      "3*8=24\n",
      "3*9=27\n",
      "3*10=30\n",
      "2*10=20\n",
      "3*1=3\n",
      "3*2=6\n",
      "3*3=9\n",
      "3*4=12\n",
      "3*5=15\n",
      "3*6=18\n",
      "3*7=21\n",
      "3*8=24\n",
      "3*9=27\n",
      "3*10=30\n"
     ]
    }
   ],
   "source": [
    "for temp in range(1, 11):\n",
    "    print(f\"2*{temp}={temp*2}\")\n",
    "    for temp in range(1, 11):\n",
    "        print(f\"3*{temp}={temp*3}\")"
   ]
  },
  {
   "cell_type": "code",
   "execution_count": 35,
   "id": "cb33b38e",
   "metadata": {},
   "outputs": [
    {
     "name": "stdout",
     "output_type": "stream",
     "text": [
      "2 x 1 = 2\n",
      "3 x 1 = 3\n",
      "3 x 2 = 6\n",
      "3 x 3 = 9\n",
      "3 x 4 = 12\n",
      "3 x 5 = 15\n",
      "3 x 6 = 18\n",
      "3 x 7 = 21\n",
      "3 x 8 = 24\n",
      "3 x 9 = 27\n",
      "3 x 10 = 30\n",
      "4 x 1 = 4\n",
      "4 x 2 = 8\n",
      "4 x 3 = 12\n",
      "4 x 4 = 16\n",
      "4 x 5 = 20\n",
      "4 x 6 = 24\n",
      "4 x 7 = 28\n",
      "4 x 8 = 32\n",
      "4 x 9 = 36\n",
      "4 x 10 = 40\n",
      "2 x 2 = 4\n",
      "3 x 1 = 3\n",
      "3 x 2 = 6\n",
      "3 x 3 = 9\n",
      "3 x 4 = 12\n",
      "3 x 5 = 15\n",
      "3 x 6 = 18\n",
      "3 x 7 = 21\n",
      "3 x 8 = 24\n",
      "3 x 9 = 27\n",
      "3 x 10 = 30\n",
      "4 x 1 = 4\n",
      "4 x 2 = 8\n",
      "4 x 3 = 12\n",
      "4 x 4 = 16\n",
      "4 x 5 = 20\n",
      "4 x 6 = 24\n",
      "4 x 7 = 28\n",
      "4 x 8 = 32\n",
      "4 x 9 = 36\n",
      "4 x 10 = 40\n",
      "2 x 3 = 6\n",
      "3 x 1 = 3\n",
      "3 x 2 = 6\n",
      "3 x 3 = 9\n",
      "3 x 4 = 12\n",
      "3 x 5 = 15\n",
      "3 x 6 = 18\n",
      "3 x 7 = 21\n",
      "3 x 8 = 24\n",
      "3 x 9 = 27\n",
      "3 x 10 = 30\n",
      "4 x 1 = 4\n",
      "4 x 2 = 8\n",
      "4 x 3 = 12\n",
      "4 x 4 = 16\n",
      "4 x 5 = 20\n",
      "4 x 6 = 24\n",
      "4 x 7 = 28\n",
      "4 x 8 = 32\n",
      "4 x 9 = 36\n",
      "4 x 10 = 40\n",
      "2 x 4 = 8\n",
      "3 x 1 = 3\n",
      "3 x 2 = 6\n",
      "3 x 3 = 9\n",
      "3 x 4 = 12\n",
      "3 x 5 = 15\n",
      "3 x 6 = 18\n",
      "3 x 7 = 21\n",
      "3 x 8 = 24\n",
      "3 x 9 = 27\n",
      "3 x 10 = 30\n",
      "4 x 1 = 4\n",
      "4 x 2 = 8\n",
      "4 x 3 = 12\n",
      "4 x 4 = 16\n",
      "4 x 5 = 20\n",
      "4 x 6 = 24\n",
      "4 x 7 = 28\n",
      "4 x 8 = 32\n",
      "4 x 9 = 36\n",
      "4 x 10 = 40\n",
      "2 x 5 = 10\n",
      "3 x 1 = 3\n",
      "3 x 2 = 6\n",
      "3 x 3 = 9\n",
      "3 x 4 = 12\n",
      "3 x 5 = 15\n",
      "3 x 6 = 18\n",
      "3 x 7 = 21\n",
      "3 x 8 = 24\n",
      "3 x 9 = 27\n",
      "3 x 10 = 30\n",
      "4 x 1 = 4\n",
      "4 x 2 = 8\n",
      "4 x 3 = 12\n",
      "4 x 4 = 16\n",
      "4 x 5 = 20\n",
      "4 x 6 = 24\n",
      "4 x 7 = 28\n",
      "4 x 8 = 32\n",
      "4 x 9 = 36\n",
      "4 x 10 = 40\n",
      "2 x 6 = 12\n",
      "3 x 1 = 3\n",
      "3 x 2 = 6\n",
      "3 x 3 = 9\n",
      "3 x 4 = 12\n",
      "3 x 5 = 15\n",
      "3 x 6 = 18\n",
      "3 x 7 = 21\n",
      "3 x 8 = 24\n",
      "3 x 9 = 27\n",
      "3 x 10 = 30\n",
      "4 x 1 = 4\n",
      "4 x 2 = 8\n",
      "4 x 3 = 12\n",
      "4 x 4 = 16\n",
      "4 x 5 = 20\n",
      "4 x 6 = 24\n",
      "4 x 7 = 28\n",
      "4 x 8 = 32\n",
      "4 x 9 = 36\n",
      "4 x 10 = 40\n",
      "2 x 7 = 14\n",
      "3 x 1 = 3\n",
      "3 x 2 = 6\n",
      "3 x 3 = 9\n",
      "3 x 4 = 12\n",
      "3 x 5 = 15\n",
      "3 x 6 = 18\n",
      "3 x 7 = 21\n",
      "3 x 8 = 24\n",
      "3 x 9 = 27\n",
      "3 x 10 = 30\n",
      "4 x 1 = 4\n",
      "4 x 2 = 8\n",
      "4 x 3 = 12\n",
      "4 x 4 = 16\n",
      "4 x 5 = 20\n",
      "4 x 6 = 24\n",
      "4 x 7 = 28\n",
      "4 x 8 = 32\n",
      "4 x 9 = 36\n",
      "4 x 10 = 40\n",
      "2 x 8 = 16\n",
      "3 x 1 = 3\n",
      "3 x 2 = 6\n",
      "3 x 3 = 9\n",
      "3 x 4 = 12\n",
      "3 x 5 = 15\n",
      "3 x 6 = 18\n",
      "3 x 7 = 21\n",
      "3 x 8 = 24\n",
      "3 x 9 = 27\n",
      "3 x 10 = 30\n",
      "4 x 1 = 4\n",
      "4 x 2 = 8\n",
      "4 x 3 = 12\n",
      "4 x 4 = 16\n",
      "4 x 5 = 20\n",
      "4 x 6 = 24\n",
      "4 x 7 = 28\n",
      "4 x 8 = 32\n",
      "4 x 9 = 36\n",
      "4 x 10 = 40\n",
      "2 x 9 = 18\n",
      "3 x 1 = 3\n",
      "3 x 2 = 6\n",
      "3 x 3 = 9\n",
      "3 x 4 = 12\n",
      "3 x 5 = 15\n",
      "3 x 6 = 18\n",
      "3 x 7 = 21\n",
      "3 x 8 = 24\n",
      "3 x 9 = 27\n",
      "3 x 10 = 30\n",
      "4 x 1 = 4\n",
      "4 x 2 = 8\n",
      "4 x 3 = 12\n",
      "4 x 4 = 16\n",
      "4 x 5 = 20\n",
      "4 x 6 = 24\n",
      "4 x 7 = 28\n",
      "4 x 8 = 32\n",
      "4 x 9 = 36\n",
      "4 x 10 = 40\n",
      "2 x 10 = 20\n",
      "3 x 1 = 3\n",
      "3 x 2 = 6\n",
      "3 x 3 = 9\n",
      "3 x 4 = 12\n",
      "3 x 5 = 15\n",
      "3 x 6 = 18\n",
      "3 x 7 = 21\n",
      "3 x 8 = 24\n",
      "3 x 9 = 27\n",
      "3 x 10 = 30\n",
      "4 x 1 = 4\n",
      "4 x 2 = 8\n",
      "4 x 3 = 12\n",
      "4 x 4 = 16\n",
      "4 x 5 = 20\n",
      "4 x 6 = 24\n",
      "4 x 7 = 28\n",
      "4 x 8 = 32\n",
      "4 x 9 = 36\n",
      "4 x 10 = 40\n",
      "5 x 1 = 5\n",
      "5 x 2 = 10\n",
      "5 x 3 = 15\n",
      "5 x 4 = 20\n",
      "5 x 5 = 25\n",
      "5 x 6 = 30\n",
      "5 x 7 = 35\n",
      "5 x 8 = 40\n",
      "5 x 9 = 45\n",
      "5 x 10 = 50\n"
     ]
    }
   ],
   "source": [
    "for temp in range(1, 11):\n",
    "    print(f\"2 x {temp} = {temp * 2}\")\n",
    "    for temp in range(1, 11):\n",
    "        print(f\"3 x {temp} = {temp * 3}\")\n",
    "    for temp in range(1, 11):\n",
    "        print(f\"4 x {temp} = {temp * 4}\")\n",
    "for temp in range(1, 11):\n",
    "    print(f\"5 x {temp} = {temp * 5}\")"
   ]
  },
  {
   "cell_type": "code",
   "execution_count": 37,
   "id": "91a8b37d",
   "metadata": {},
   "outputs": [
    {
     "name": "stdout",
     "output_type": "stream",
     "text": [
      "TABLE of2\n",
      "2*1=2\n",
      "2*2=4\n",
      "2*3=6\n",
      "2*4=8\n",
      "2*5=10\n",
      "2*6=12\n",
      "2*7=14\n",
      "2*8=16\n",
      "2*9=18\n",
      "2*10=20\n",
      "TABLE of3\n",
      "3*1=3\n",
      "3*2=6\n",
      "3*3=9\n",
      "3*4=12\n",
      "3*5=15\n",
      "3*6=18\n",
      "3*7=21\n",
      "3*8=24\n",
      "3*9=27\n",
      "3*10=30\n",
      "TABLE of4\n",
      "4*1=4\n",
      "4*2=8\n",
      "4*3=12\n",
      "4*4=16\n",
      "4*5=20\n",
      "4*6=24\n",
      "4*7=28\n",
      "4*8=32\n",
      "4*9=36\n",
      "4*10=40\n",
      "TABLE of5\n",
      "5*1=5\n",
      "5*2=10\n",
      "5*3=15\n",
      "5*4=20\n",
      "5*5=25\n",
      "5*6=30\n",
      "5*7=35\n",
      "5*8=40\n",
      "5*9=45\n",
      "5*10=50\n"
     ]
    }
   ],
   "source": [
    "for temp in range(2, 6):\n",
    "    print(f\"TABLE of{temp}\")\n",
    "    for temp2 in range(1,11):\n",
    "        print(f\"{temp}*{temp2}={temp*temp2}\")"
   ]
  },
  {
   "cell_type": "code",
   "execution_count": 1,
   "id": "018d1bd1",
   "metadata": {},
   "outputs": [],
   "source": [
    "names=[\"tasawor\",\"shoaib\",\"moosa\",\"imran\",\"lala\"]"
   ]
  },
  {
   "cell_type": "code",
   "execution_count": 2,
   "id": "71ed7df1",
   "metadata": {},
   "outputs": [
    {
     "data": {
      "text/plain": [
       "['tasawor', 'shoaib', 'moosa', 'imran', 'lala']"
      ]
     },
     "execution_count": 2,
     "metadata": {},
     "output_type": "execute_result"
    }
   ],
   "source": [
    "names"
   ]
  },
  {
   "cell_type": "code",
   "execution_count": 3,
   "id": "a5560ac9",
   "metadata": {},
   "outputs": [],
   "source": [
    "name_upper=[]\n",
    "\n",
    "for temp in names:\n",
    "    name_upper.append(temp.upper())"
   ]
  },
  {
   "cell_type": "markdown",
   "id": "4850e437",
   "metadata": {},
   "source": [
    "name_upper"
   ]
  },
  {
   "cell_type": "code",
   "execution_count": 4,
   "id": "51eb0f85",
   "metadata": {},
   "outputs": [
    {
     "data": {
      "text/plain": [
       "['TASAWOR', 'SHOAIB', 'MOOSA', 'IMRAN', 'LALA']"
      ]
     },
     "execution_count": 4,
     "metadata": {},
     "output_type": "execute_result"
    }
   ],
   "source": [
    "name_upper"
   ]
  },
  {
   "cell_type": "code",
   "execution_count": 5,
   "id": "5fa6c2a9",
   "metadata": {},
   "outputs": [],
   "source": [
    "name_upper=[]\n",
    "\n",
    "for temp in names:\n",
    "    name_upper.append(temp.lower())"
   ]
  },
  {
   "cell_type": "code",
   "execution_count": 6,
   "id": "bbc9c460",
   "metadata": {},
   "outputs": [
    {
     "data": {
      "text/plain": [
       "['tasawor', 'shoaib', 'moosa', 'imran', 'lala']"
      ]
     },
     "execution_count": 6,
     "metadata": {},
     "output_type": "execute_result"
    }
   ],
   "source": [
    "name_upper"
   ]
  },
  {
   "cell_type": "code",
   "execution_count": 7,
   "id": "cbe32fbe",
   "metadata": {},
   "outputs": [],
   "source": [
    "name_upper=[]\n",
    "\n",
    "for temp in names:\n",
    "    name_upper.append(temp.title())"
   ]
  },
  {
   "cell_type": "code",
   "execution_count": 8,
   "id": "12466429",
   "metadata": {},
   "outputs": [
    {
     "data": {
      "text/plain": [
       "['Tasawor', 'Shoaib', 'Moosa', 'Imran', 'Lala']"
      ]
     },
     "execution_count": 8,
     "metadata": {},
     "output_type": "execute_result"
    }
   ],
   "source": [
    "name_upper"
   ]
  },
  {
   "cell_type": "markdown",
   "id": "6f4708ed",
   "metadata": {},
   "source": [
    "# user input"
   ]
  },
  {
   "cell_type": "code",
   "execution_count": 13,
   "id": "9639b23f",
   "metadata": {},
   "outputs": [
    {
     "name": "stdout",
     "output_type": "stream",
     "text": [
      "enter where I starts from: 2\n",
      "where can i stop: 9\n",
      "enter how long i go: 6\n",
      "TABLE of2\n",
      "2*1=2\n",
      "2*2=4\n",
      "2*3=6\n",
      "2*4=8\n",
      "2*5=10\n",
      "2*6=12\n",
      "TABLE of3\n",
      "3*1=3\n",
      "3*2=6\n",
      "3*3=9\n",
      "3*4=12\n",
      "3*5=15\n",
      "3*6=18\n",
      "TABLE of4\n",
      "4*1=4\n",
      "4*2=8\n",
      "4*3=12\n",
      "4*4=16\n",
      "4*5=20\n",
      "4*6=24\n",
      "TABLE of5\n",
      "5*1=5\n",
      "5*2=10\n",
      "5*3=15\n",
      "5*4=20\n",
      "5*5=25\n",
      "5*6=30\n",
      "TABLE of6\n",
      "6*1=6\n",
      "6*2=12\n",
      "6*3=18\n",
      "6*4=24\n",
      "6*5=30\n",
      "6*6=36\n",
      "TABLE of7\n",
      "7*1=7\n",
      "7*2=14\n",
      "7*3=21\n",
      "7*4=28\n",
      "7*5=35\n",
      "7*6=42\n",
      "TABLE of8\n",
      "8*1=8\n",
      "8*2=16\n",
      "8*3=24\n",
      "8*4=32\n",
      "8*5=40\n",
      "8*6=48\n",
      "TABLE of9\n",
      "9*1=9\n",
      "9*2=18\n",
      "9*3=27\n",
      "9*4=36\n",
      "9*5=45\n",
      "9*6=54\n"
     ]
    }
   ],
   "source": [
    "table_start=int(input(\"enter where I starts from: \"))\n",
    "table_end=int(input(\"where can i stop: \"))\n",
    "table_dur=int(input(\"enter how long i go: \"))\n",
    "for temp in range(table_start, table_end+1):\n",
    "    print(f\"TABLE of{temp}\")\n",
    "    for temp2 in range(1,table_dur+1):\n",
    "        print(f\"{temp}*{temp2}={temp*temp2}\")"
   ]
  },
  {
   "cell_type": "markdown",
   "id": "10444276",
   "metadata": {},
   "source": [
    "# String formatting method"
   ]
  },
  {
   "cell_type": "code",
   "execution_count": 15,
   "id": "01fd4f0b",
   "metadata": {},
   "outputs": [
    {
     "name": "stdout",
     "output_type": "stream",
     "text": [
      "enter your name: Tasawor\n",
      "enter your fname: Hamid\n",
      "enter your fname: 186598\n",
      "**************************SMIT**********************\n",
      "Name:Tasawor\n",
      "F-name:Hamid\n",
      "Id:186598\n",
      "******************************************************\n"
     ]
    }
   ],
   "source": [
    "name=input(\"enter your name: \")\n",
    "father_name=input(\"enter your fname: \")\n",
    "Rollno=input(\"enter your fname: \")\n",
    "\n",
    "\n",
    "print(\"**************************SMIT**********************\")\n",
    "print(f\"Name:{name}\")\n",
    "print(f\"F-name:{father_name}\")\n",
    "print(f\"Id:{Rollno}\")\n",
    "print(\"******************************************************\")"
   ]
  },
  {
   "cell_type": "code",
   "execution_count": 16,
   "id": "400192e8",
   "metadata": {},
   "outputs": [
    {
     "name": "stdout",
     "output_type": "stream",
     "text": [
      "enter your name: tasawor\n",
      "enter your fname: hamid\n",
      "enter your fname: 186592\n",
      "**************************SMIT*********************** \n",
      " Name:tasawor\n",
      " Father name:hamid\n",
      " Id:186592\n",
      " *********************************\n"
     ]
    }
   ],
   "source": [
    "name=input(\"enter your name: \")\n",
    "father_name=input(\"enter your fname: \")\n",
    "Rollno=input(\"enter your fname: \")\n",
    "\n",
    "\n",
    "print(f\"**************************SMIT*********************** \\n Name:{name}\\n \\\n",
    "Father name:{father_name}\\n Id:{Rollno}\\n *********************************\")"
   ]
  },
  {
   "cell_type": "code",
   "execution_count": 18,
   "id": "c3b0cf09",
   "metadata": {},
   "outputs": [
    {
     "name": "stdout",
     "output_type": "stream",
     "text": [
      "enter your name: Tasawor Khan\n",
      "enter your fname: Hamid khan\n",
      "enter your fname: 186598\n",
      "**************************SMIT*********************** \n",
      " Name:Tasawor Khan\n",
      " Father name:Hamid khan\n",
      " Id:186598\n",
      " *********************************\n"
     ]
    }
   ],
   "source": [
    "name=input(\"enter your name: \")\n",
    "father_name=input(\"enter your fname: \")\n",
    "Rollno=input(\"enter your fname: \")\n",
    "\n",
    "\n",
    "print(\"**************************SMIT*********************** \\n Name:{0}\\n \\\n",
    "Father name:{1}\\n Id:{2}\\n *********************************\".format(name,father_name,Rollno))"
   ]
  },
  {
   "cell_type": "markdown",
   "id": "9997896e",
   "metadata": {},
   "source": [
    "# Intro To Dictionary:"
   ]
  },
  {
   "cell_type": "code",
   "execution_count": null,
   "id": "4b36bf0e",
   "metadata": {},
   "outputs": [],
   "source": [
    "# Key--value\n",
    "# Name--tasawor\n",
    "\n",
    "# recognized by curly brackets({})\n",
    "\n",
    "# class end here\n",
    "\n"
   ]
  }
 ],
 "metadata": {
  "kernelspec": {
   "display_name": "Python 3 (ipykernel)",
   "language": "python",
   "name": "python3"
  },
  "language_info": {
   "codemirror_mode": {
    "name": "ipython",
    "version": 3
   },
   "file_extension": ".py",
   "mimetype": "text/x-python",
   "name": "python",
   "nbconvert_exporter": "python",
   "pygments_lexer": "ipython3",
   "version": "3.11.5"
  }
 },
 "nbformat": 4,
 "nbformat_minor": 5
}
